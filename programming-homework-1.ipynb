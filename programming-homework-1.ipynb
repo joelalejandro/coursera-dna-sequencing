{
 "cells": [
  {
   "cell_type": "markdown",
   "metadata": {},
   "source": [
    "_Graded with 7/7 (100%)_"
   ]
  },
  {
   "cell_type": "markdown",
   "metadata": {},
   "source": [
    "# Exercise 1\n",
    "\n",
    "How many times does AGGT or its reverse complement (ACCT) occur in the lambda virus genome? E.g. if AGGT occurs 10 times and ACCT occurs 12 times, you should report 22."
   ]
  },
  {
   "cell_type": "code",
   "execution_count": 3,
   "metadata": {
    "collapsed": false,
    "scrolled": true
   },
   "outputs": [
    {
     "name": "stderr",
     "output_type": "stream",
     "text": [
      "  % Total    % Received % Xferd  Average Speed   Time    Time     Time  Current\n",
      "                                 Dload  Upload   Total   Spent    Left  Speed\n",
      "\n",
      "  0     0    0     0    0     0      0      0 --:--:-- --:--:-- --:--:--     0\n",
      "100 49270  100 49270    0     0  53213      0 --:--:-- --:--:-- --:--:-- 77346\n"
     ]
    }
   ],
   "source": [
    "# Fetch the genome.\n",
    "!curl -O http://d28rh4a8wq0iu5.cloudfront.net/ads1/data/lambda_virus.fa"
   ]
  },
  {
   "cell_type": "code",
   "execution_count": 15,
   "metadata": {
    "collapsed": false
   },
   "outputs": [
    {
     "name": "stdout",
     "output_type": "stream",
     "text": [
      "GGGCGGCGACCTCGCGGGTTTTCGCTATTTATGAAAATTTTCCGGTTTAA...\n"
     ]
    }
   ],
   "source": [
    "# Define a function to read the genome.\n",
    "def readGenome(filename):\n",
    "    sequences = ''\n",
    "    with open(filename, 'r') as fh:\n",
    "        for line in fh:\n",
    "            if not line[0] == '>': # First line is irrelevant.\n",
    "                sequences += line.rstrip()\n",
    "    return sequences\n",
    "\n",
    "genome = readGenome('lambda_virus.fa')\n",
    "print(genome[:50] + '...') # Test if genome was processed OK."
   ]
  },
  {
   "cell_type": "code",
   "execution_count": 10,
   "metadata": {
    "collapsed": true
   },
   "outputs": [],
   "source": [
    "# Define reverse complement of a genome.\n",
    "def reverseComplement(s):\n",
    "    complement = {'A': 'T', 'C': 'G', 'G': 'C', 'T': 'A', 'N': 'N'}\n",
    "    t = ''\n",
    "    for base in s:\n",
    "        t = complement[base] + t\n",
    "    return t"
   ]
  },
  {
   "cell_type": "code",
   "execution_count": 11,
   "metadata": {
    "collapsed": true
   },
   "outputs": [],
   "source": [
    "# Define Naive.\n",
    "def naive(p, t):\n",
    "    occurrences = []\n",
    "    for i in range(len(t) - len(p) + 1):\n",
    "        match = True\n",
    "        for j in range(len(p)):\n",
    "            if t[i+j] != p[j]:\n",
    "                match = False\n",
    "                break\n",
    "        if match:\n",
    "            occurrences.append(i)\n",
    "    return occurrences"
   ]
  },
  {
   "cell_type": "code",
   "execution_count": 23,
   "metadata": {
    "collapsed": false
   },
   "outputs": [
    {
     "name": "stdout",
     "output_type": "stream",
     "text": [
      "150 matches, 156 reverse-complemented matches = 306 total matches\n"
     ]
    }
   ],
   "source": [
    "# Match patterns.\n",
    "pattern = 'AGGT'\n",
    "matches = naive(pattern, genome)\n",
    "reverseMatches = naive(reverseComplement(pattern), genome)\n",
    "print('%d matches, %d reverse-complemented matches = %d total matches' \n",
    "      % (len(matches), len(reverseMatches), len(matches) + len(reverseMatches)))"
   ]
  },
  {
   "cell_type": "markdown",
   "metadata": {},
   "source": [
    "# Exercise 2\n",
    "\n",
    "How many times does TTAA or its reverse complement occur in the lambda virus genome?\n",
    "Hint: TTAA and its reverse complement are equal, so remember not to double count."
   ]
  },
  {
   "cell_type": "code",
   "execution_count": 73,
   "metadata": {
    "collapsed": false
   },
   "outputs": [
    {
     "name": "stdout",
     "output_type": "stream",
     "text": [
      "195 matches for TTAA\n"
     ]
    }
   ],
   "source": [
    "# Match patterns.\n",
    "pattern = 'TTAA'\n",
    "matches = naive(pattern, genome)\n",
    "print('%d matches for %s' % (len(matches), pattern))"
   ]
  },
  {
   "cell_type": "markdown",
   "metadata": {},
   "source": [
    "# Exercise 3\n",
    "\n",
    "What is the offset of the leftmost occurrence of ACTAAGT or its reverse complement in the Lambda virus genome? E.g. if the leftmost occurrence of ACTAAGT is at offset 40 (0-based) and the leftmost occurrence of its reverse complement ACTTAGT is at offset 29, then report 29."
   ]
  },
  {
   "cell_type": "code",
   "execution_count": 74,
   "metadata": {
    "collapsed": false
   },
   "outputs": [
    {
     "name": "stdout",
     "output_type": "stream",
     "text": [
      "Leftmost ocurrence is found at offset 26028\n"
     ]
    }
   ],
   "source": [
    "# Match patterns.\n",
    "pattern = 'ACTAAGT'\n",
    "matches = naive(pattern, genome)\n",
    "matches.extend(naive(reverseComplement(pattern), genome))\n",
    "print('Leftmost ocurrence is found at offset %d' % (min(matches)))"
   ]
  },
  {
   "cell_type": "markdown",
   "metadata": {},
   "source": [
    "# Exercise 4\n",
    "\n",
    "What is the offset of the leftmost occurrence of AGTCGA or its reverse complement in the Lambda virus genome?"
   ]
  },
  {
   "cell_type": "code",
   "execution_count": 28,
   "metadata": {
    "collapsed": false
   },
   "outputs": [
    {
     "name": "stdout",
     "output_type": "stream",
     "text": [
      "Leftmost ocurrence is found at offset 450\n"
     ]
    }
   ],
   "source": [
    "# Match patterns.\n",
    "pattern = 'AGTCGA'\n",
    "matches = naive(pattern, genome)\n",
    "matches.extend(naive(reverseComplement(pattern), genome))\n",
    "print('Leftmost ocurrence is found at offset %d' % (min(matches)))"
   ]
  },
  {
   "cell_type": "markdown",
   "metadata": {},
   "source": [
    "# Exercise 5\n",
    "\n",
    "As we will discuss, sometimes we would like to find approximate matches for P in T. That is, we want to find occurrences with one or more differences.\n",
    "\n",
    "For Questions 5 and 6, make a new version of the naive function called naive_2mm that allows up to 2 mismatches per occurrence. Unlike for the previous questions, do not consider the reverse complement here. We're looking for approximate matches for P itself, not its reverse complement.\n",
    "\n",
    "For example, ACTTTA occurs twice in ACTTACTTGATAAAGT, once at offset 0 with 2 mismatches, and once at offset 4 with 1 mismatch. So naive_2mm('ACTTTA', 'ACTTACTTGATAAAGT') should return the list [0, 4].\n",
    "\n",
    "Hint: See this [notebook](http://nbviewer.ipython.org/github/BenLangmead/ads1-hw-examples/blob/master/hw1_naive_2mm.ipynb) for a few examples you can use to test your naive_2mm function.\n",
    "\n",
    "How many times does TTCAAGCC occur in the Lambda virus genome when allowing up to 2 mismatches?"
   ]
  },
  {
   "cell_type": "code",
   "execution_count": 66,
   "metadata": {
    "collapsed": false
   },
   "outputs": [],
   "source": [
    "# Define Naive with 2 mismatches.\n",
    "def naive_2mm(p, t):\n",
    "    occurrences = []\n",
    "    for i in range(len(t) - len(p) + 1):\n",
    "        mismatchCount = 0\n",
    "        match = True\n",
    "        for j in range(len(p)):\n",
    "            if t[i+j] != p[j]:\n",
    "                mismatchCount += 1\n",
    "                # print('Mismatch: %s vs. %s, at t[%d + %d] vs. p[%d] (count: %d)'\n",
    "                #      % (t[i + j], p[j], i, j, j, mismatchCount))\n",
    "                if mismatchCount > 2:\n",
    "                    match = False\n",
    "                    break\n",
    "        if match:\n",
    "            # print('Match! at %d' % i)\n",
    "            occurrences.append(i)\n",
    "    return occurrences"
   ]
  },
  {
   "cell_type": "code",
   "execution_count": 31,
   "metadata": {
    "collapsed": false
   },
   "outputs": [
    {
     "name": "stderr",
     "output_type": "stream",
     "text": [
      "  % Total    % Received % Xferd  Average Speed   Time    Time     Time  Current\n",
      "                                 Dload  Upload   Total   Spent    Left  Speed\n",
      "\n",
      "  0     0    0     0    0     0      0      0 --:--:-- --:--:-- --:--:--     0\n",
      "100  5528  100  5528    0     0   9155      0 --:--:-- --:--:-- --:--:-- 13820\n"
     ]
    }
   ],
   "source": [
    "# Test with Phi-X genome.\n",
    "!curl -O http://d396qusza40orc.cloudfront.net/ads1/data/phix.fa"
   ]
  },
  {
   "cell_type": "code",
   "execution_count": 67,
   "metadata": {
    "collapsed": false
   },
   "outputs": [
    {
     "name": "stdout",
     "output_type": "stream",
     "text": [
      "Leftmost occurrence is at offset 10\n"
     ]
    }
   ],
   "source": [
    "# Read Phi-X and test according to reference notebook if naive_2mm is well defined.\n",
    "phix_genome = readGenome('phix.fa')\n",
    "test_occurrences = naive_2mm('GATTACA', phix_genome)\n",
    "print('Leftmost occurrence is at offset %d' % min(test_occurrences))"
   ]
  },
  {
   "cell_type": "code",
   "execution_count": 69,
   "metadata": {
    "collapsed": false
   },
   "outputs": [
    {
     "name": "stdout",
     "output_type": "stream",
     "text": [
      "[0, 4]\n"
     ]
    }
   ],
   "source": [
    "# Worked!\n",
    "# Test against static sample.\n",
    "print(naive_2mm('ACTTTA', 'ACTTACTTGATAAAGT'))"
   ]
  },
  {
   "cell_type": "code",
   "execution_count": 70,
   "metadata": {
    "collapsed": false
   },
   "outputs": [
    {
     "name": "stdout",
     "output_type": "stream",
     "text": [
      "Pattern with up to 2 mismatches found 191 times on Lambda.\n"
     ]
    }
   ],
   "source": [
    "# Also worked! Now for Lambda.\n",
    "pattern = 'TTCAAGCC'\n",
    "matches = naive_2mm(pattern, genome)\n",
    "print('Pattern with up to 2 mismatches found %d times on Lambda.' % len(matches))"
   ]
  },
  {
   "cell_type": "markdown",
   "metadata": {},
   "source": [
    "# Exercise 6\n",
    "\n",
    "What is the offset of the leftmost occurrence of AGGAGGTT in the Lambda virus genome when allowing up to 2 mismatches?"
   ]
  },
  {
   "cell_type": "code",
   "execution_count": 71,
   "metadata": {
    "collapsed": false
   },
   "outputs": [
    {
     "name": "stdout",
     "output_type": "stream",
     "text": [
      "Pattern with up to 2 mismatches leftmost offset on Lambda is 49.\n"
     ]
    }
   ],
   "source": [
    "# Match patterns with up to 2 mismatches.\n",
    "pattern = 'AGGAGGTT'\n",
    "matches = naive_2mm(pattern, genome)\n",
    "print('Pattern with up to 2 mismatches leftmost offset on Lambda is %d.' % min(matches))"
   ]
  },
  {
   "cell_type": "markdown",
   "metadata": {},
   "source": [
    "# Exercise 7\n",
    "\n",
    "Finally, download and parse the provided FASTQ file containing real DNA sequencing reads derived from a human:\n",
    "\n",
    "https://d28rh4a8wq0iu5.cloudfront.net/ads1/data/ERR037900_1.first1000.fastq\n",
    "\n",
    "Note that the file has many reads in it and you should examine all of them together when answering this question. The reads are taken from this study:\n",
    "\n",
    "> Ajay, S. S., Parker, S. C., Abaan, H. O., Fajardo, K. V. F., & Margulies, E. H. (2011). Accurate and comprehensive sequencing of personal genomes. Genome research, 21(9), 1498-1505.\n",
    "\n",
    "This dataset has something wrong with it; one of the sequencing cycles is poor quality.\n",
    "\n",
    "Report which sequencing cycle has the problem. Remember that a sequencing cycle corresponds to a particular offset in all the reads. For example, if the leftmost read position seems to have a problem consistently across reads, report 0. If the fourth position from the left has the problem, report 3. Do whatever analysis you think is needed to identify the bad cycle. It might help to review the \"Analyzing reads by position\" video."
   ]
  },
  {
   "cell_type": "code",
   "execution_count": 72,
   "metadata": {
    "collapsed": false
   },
   "outputs": [
    {
     "name": "stderr",
     "output_type": "stream",
     "text": [
      "  % Total    % Received % Xferd  Average Speed   Time    Time     Time  Current\n",
      "                                 Dload  Upload   Total   Spent    Left  Speed\n",
      "\n",
      "  0     0    0     0    0     0      0      0 --:--:-- --:--:-- --:--:--     0\n",
      "  0     0    0     0    0     0      0      0 --:--:-- --:--:-- --:--:--     0\n",
      "  6  235k    6 16384    0     0   8670      0  0:00:27  0:00:01  0:00:26 11872\n",
      "100  235k  100  235k    0     0  96802      0  0:00:02  0:00:02 --:--:--  118k\n"
     ]
    }
   ],
   "source": [
    "# Download the FASTQ DNA sequencing file.\n",
    "!curl -O https://d28rh4a8wq0iu5.cloudfront.net/ads1/data/ERR037900_1.first1000.fastq"
   ]
  },
  {
   "cell_type": "code",
   "execution_count": 78,
   "metadata": {
    "collapsed": true
   },
   "outputs": [],
   "source": [
    "# Define a FASTQ parser.\n",
    "def readFastq(filename):\n",
    "    sequences = []\n",
    "    qualities = []\n",
    "    with open(filename, 'r') as fh:\n",
    "        while True:\n",
    "            fh.readline() # Ignore identifier.\n",
    "            seq = fh.readline().rstrip() # Read sequences.\n",
    "            fh.readline() # Ignore placeholder.\n",
    "            qua = fh.readline().rstrip() # Read qualities.\n",
    "            if len(seq) == 0:\n",
    "                break\n",
    "            sequences.append(seq)\n",
    "            qualities.append(qua)\n",
    "    return sequences, qualities"
   ]
  },
  {
   "cell_type": "code",
   "execution_count": 81,
   "metadata": {
    "collapsed": false
   },
   "outputs": [
    {
     "name": "stdout",
     "output_type": "stream",
     "text": [
      "['TAACCCTAACCCTAACCCTAACCCTAACCCTAACCCTAACCCTAACCCTAACCCTAACCCTAACCCNAACCCTAACCCTAACCCTAACCCTAACCCTAAC', 'TAACCCTAACCCTAACCCTAACCCTAACCCTAACCCTAACCCTAACCCTAACCCTAACCCTAACCCNAACCCTAACCCTAACCCTAACCCTNACCCTAAC']\n",
      "['HHHHHHHHHHHHHHHHHHHHHHHHHHHHHHHHHHHHHHHHHHHGFHHHFHFFHHHHHGHHFHEH@4#55554455HGFBF<@C>7EEF@FBEDDD<=C<E', 'HHHHHHHHHHHHHHHHHHHHHHHHHHHHHHHHHHHHHHHHHHHHHHHHHHHHHHHHCHHHHEHHBA#C>@54455C/7=CGHEGEB;C############']\n"
     ]
    }
   ],
   "source": [
    "# Test the parser.\n",
    "human_sequences, human_qualities = readFastq('ERR037900_1.first1000.fastq')\n",
    "print(human_sequences[:2])\n",
    "print(human_qualities[:2])"
   ]
  },
  {
   "cell_type": "code",
   "execution_count": 82,
   "metadata": {
    "collapsed": true
   },
   "outputs": [],
   "source": [
    "# Define a Phred33 decoder.\n",
    "def phred33decode(s):\n",
    "    return ord(s) - 33"
   ]
  },
  {
   "cell_type": "code",
   "execution_count": 83,
   "metadata": {
    "collapsed": false
   },
   "outputs": [
    {
     "data": {
      "text/plain": [
       "39"
      ]
     },
     "execution_count": 83,
     "metadata": {},
     "output_type": "execute_result"
    }
   ],
   "source": [
    "# Test the decoder\n",
    "phred33decode(human_qualities[0][0])"
   ]
  },
  {
   "cell_type": "code",
   "execution_count": 84,
   "metadata": {
    "collapsed": true
   },
   "outputs": [],
   "source": [
    "# Define a function to help us find G's and C's.\n",
    "def findGC(sequences):\n",
    "    read_len = len(sequences[0])\n",
    "    gc = [0] * read_len\n",
    "    totals = [0] * read_len\n",
    "    \n",
    "    for seq in sequences:\n",
    "        for i in range(len(seq)):\n",
    "            base = seq[i]\n",
    "            if base == 'G' or base == 'C':\n",
    "                gc[i] += 1\n",
    "            totals[i] += 1\n",
    "            \n",
    "    for i in range(len(gc)):\n",
    "        if totals[i] > 0:\n",
    "            gc[i] /= float(totals[i])\n",
    "            \n",
    "    return gc"
   ]
  },
  {
   "cell_type": "code",
   "execution_count": 86,
   "metadata": {
    "collapsed": false
   },
   "outputs": [],
   "source": [
    "# Set Matplotlib environment. If fails, do `conda install matplotlib`\n",
    "%matplotlib inline\n",
    "import matplotlib.pyplot as plt"
   ]
  },
  {
   "cell_type": "code",
   "execution_count": 99,
   "metadata": {
    "collapsed": false
   },
   "outputs": [
    {
     "data": {
      "image/png": "[encoded data removed]",
      "text/plain": [
       "<matplotlib.figure.Figure at 0x92acd68>"
      ]
     },
     "metadata": {},
     "output_type": "display_data"
    }
   ],
   "source": [
    "# Get the GCs for the human sequences and plot it.\n",
    "import numpy as np\n",
    "human_gc = findGC(human_sequences)\n",
    "fig = plt.figure(figsize=(18, 5))\n",
    "plt.plot(range(len(human_gc)), human_gc)\n",
    "plt.xticks(np.arange(0, 100, 2.0))\n",
    "plt.show()"
   ]
  },
  {
   "cell_type": "code",
   "execution_count": 100,
   "metadata": {
    "collapsed": true
   },
   "outputs": [],
   "source": [
    "# We can see a problem arises around offset 66."
   ]
  }
 ],
 "metadata": {
  "kernelspec": {
   "display_name": "Python 2",
   "language": "python",
   "name": "python2"
  },
  "language_info": {
   "codemirror_mode": {
    "name": "ipython",
    "version": 2
   },
   "file_extension": ".py",
   "mimetype": "text/x-python",
   "name": "python",
   "nbconvert_exporter": "python",
   "pygments_lexer": "ipython2",
   "version": "2.7.12"
  }
 },
 "nbformat": 4,
 "nbformat_minor": 0
}
